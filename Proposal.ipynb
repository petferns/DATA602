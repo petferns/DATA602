{
 "cells": [
  {
   "cell_type": "markdown",
   "id": "c0c2cd4c-7f98-4e33-af00-17af7b97436b",
   "metadata": {},
   "source": [
    "# DATA 602 - Final Project Proposal"
   ]
  },
  {
   "cell_type": "markdown",
   "id": "b029d70b-1692-42d5-81dd-805434b817a9",
   "metadata": {},
   "source": [
    "## Russian-Ukranian war impact on Russia"
   ]
  },
  {
   "cell_type": "markdown",
   "id": "bc8c45a2-30ae-4d26-8763-ccf9c22208ba",
   "metadata": {},
   "source": [
    "Military losses\n",
    "\n",
    "https://www.kaggle.com/datasets/piterfm/2022-ukraine-russian-war\n",
    "\n",
    "Impact on equities\n",
    "\n",
    "https://finance.yahoo.com/quote/IMOEX.ME/history?p=IMOEX.ME\n",
    "\n",
    "RUB/ USD exchange rate impact\n",
    "https://data.nasdaq.com/\n"
   ]
  },
  {
   "cell_type": "markdown",
   "id": "4da541a4-7fa4-4799-9cf4-059fb41ba501",
   "metadata": {},
   "source": [
    "https://www2.deloitte.com/us/en/insights/economy/global-economic-impact-of-sanctions-on-russia.html"
   ]
  },
  {
   "cell_type": "code",
   "execution_count": null,
   "id": "3116d9b1-7221-4948-81ef-3530218146aa",
   "metadata": {},
   "outputs": [],
   "source": []
  }
 ],
 "metadata": {
  "kernelspec": {
   "display_name": "Python 3 (ipykernel)",
   "language": "python",
   "name": "python3"
  },
  "language_info": {
   "codemirror_mode": {
    "name": "ipython",
    "version": 3
   },
   "file_extension": ".py",
   "mimetype": "text/x-python",
   "name": "python",
   "nbconvert_exporter": "python",
   "pygments_lexer": "ipython3",
   "version": "3.7.10"
  }
 },
 "nbformat": 4,
 "nbformat_minor": 5
}
