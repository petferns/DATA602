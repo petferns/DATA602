{
 "cells": [
  {
   "cell_type": "markdown",
   "metadata": {},
   "source": [
    "# DATA 602 - Final Project Proposal"
   ]
  },
  {
   "cell_type": "markdown",
   "metadata": {},
   "source": [
    "## Russia’s Invasion of Ukraine and its impact on Russia"
   ]
  },
  {
   "cell_type": "markdown",
   "metadata": {},
   "source": [
    "Russian invasion of Ukraine commenced on February 24 2022, the invasion marked a major escalation of the Russo-Ukrainian War, which began following the 2014 Ukrainian Revolution of Dignity. Russia subsequently annexed Crimea, and Russian-backed separatists seized part of the south-eastern Donbas region of Ukraine, sparking a war there.\n",
    "\n",
    "With the onset of the invasion both Countries have been facing huge losses in terms of Military and Economy. For this project scope I would be analyzing the impact on Russia especially the Military losses, impact on Russain economy due to multiple scanctions by the west."
   ]
  },
  {
   "cell_type": "markdown",
   "metadata": {},
   "source": [
    "### Military impact\n",
    "\n",
    "I will use the dataset from Kaggle[https://www.kaggle.com/datasets/piterfm/2022-ukraine-russian-war] to understand the impact of this invasion over the Russain Military resources and personnel.\n",
    "\n",
    "### Impact on equities\n",
    "\n",
    "Equities historical data will be used from yahooo finance\n",
    "\n",
    "https://finance.yahoo.com/quote/IMOEX.ME/history?p=IMOEX.ME\n",
    "\n",
    "### RUB/ USD exchange rate impact\n",
    "\n",
    "Nasdaq data will be used to get an overview of the Russian ruble over US dollar\n",
    "https://data.nasdaq.com/"
   ]
  },
  {
   "cell_type": "markdown",
   "metadata": {},
   "source": [
    "### Conclusion\n",
    "\n",
    "From the way the war has over folded it looks like Russia has been impacted largely across various sectors and I assume all of the above areas would look red."
   ]
  },
  {
   "cell_type": "code",
   "execution_count": null,
   "metadata": {},
   "outputs": [],
   "source": []
  }
 ],
 "metadata": {
  "kernelspec": {
   "display_name": "Python 3",
   "language": "python",
   "name": "python3"
  },
  "language_info": {
   "codemirror_mode": {
    "name": "ipython",
    "version": 3
   },
   "file_extension": ".py",
   "mimetype": "text/x-python",
   "name": "python",
   "nbconvert_exporter": "python",
   "pygments_lexer": "ipython3",
   "version": "3.8.5"
  }
 },
 "nbformat": 4,
 "nbformat_minor": 5
}
